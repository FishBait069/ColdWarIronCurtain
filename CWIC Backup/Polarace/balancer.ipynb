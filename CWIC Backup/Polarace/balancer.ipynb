{
 "cells": [
  {
   "cell_type": "code",
   "execution_count": null,
   "metadata": {},
   "outputs": [],
   "source": [
    "import pandas as pd\n",
    "import seaborn as sns\n",
    "from os import listdir\n",
    "from os.path import isfile, join"
   ]
  },
  {
   "cell_type": "code",
   "execution_count": null,
   "metadata": {},
   "outputs": [],
   "source": [
    "def get_files(path: str) -> list:\n",
    "    \"\"\"\n",
    "    :param path: A directory in which all containing folders will be added to a list\n",
    "    \"\"\"\n",
    "    files = [f for f in listdir(path) if isfile(join(path, f))]\n",
    "    return files"
   ]
  },
  {
   "cell_type": "code",
   "execution_count": null,
   "metadata": {},
   "outputs": [],
   "source": [
    "def focus_as_csv():\n",
    "    focus_tree_columnated = pd.read_csv(focus_trees[0], header=None, delim_whitespace=\"/t\")\n",
    "    focus_tree_columnated.columns = [\"modifiers\", \"equals_sign\", \"values\"]\n",
    "    return focus_tree_columnated"
   ]
  },
  {
   "cell_type": "code",
   "execution_count": null,
   "metadata": {},
   "outputs": [],
   "source": [
    "focus_tree = pd.read_csv('C:/Users/Luke/Documents/GitHub/ColdWarIronCurtain/Cold War Iron Curtain/common/national_focus/50s_DDR.txt', header=None, delim_whitespace=\"/t\")\n",
    "focus_tree.columns = [\"modifiers\", \"equals_sign\", \"values\"]\n",
    "\n",
    "focus_tree = (focus_tree\n",
    "    .query(\"modifiers.str.contains('manpower')\", engine='python')\n",
    "    .drop([focus_tree.iloc[1]], axis = 1)\n",
    ")\n",
    "\n",
    "sns.barplot(focus_tree, x=focus_tree.iloc[0], y=focus_tree.iloc[2])\n",
    "\n",
    "print(focus_tree)"
   ]
  }
 ],
 "metadata": {
  "kernelspec": {
   "display_name": "honours",
   "language": "python",
   "name": "python3"
  },
  "language_info": {
   "codemirror_mode": {
    "name": "ipython",
    "version": 3
   },
   "file_extension": ".py",
   "mimetype": "text/x-python",
   "name": "python",
   "nbconvert_exporter": "python",
   "pygments_lexer": "ipython3",
   "version": "3.11.6"
  }
 },
 "nbformat": 4,
 "nbformat_minor": 2
}
